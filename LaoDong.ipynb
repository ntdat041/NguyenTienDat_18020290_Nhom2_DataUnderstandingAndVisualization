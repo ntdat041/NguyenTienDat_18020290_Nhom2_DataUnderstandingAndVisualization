{
 "cells": [
  {
   "cell_type": "code",
   "execution_count": 1,
   "metadata": {},
   "outputs": [],
   "source": [
    "import numpy as np\n",
    "import pandas as pd\n",
    "import matplotlib.pyplot as plt"
   ]
  },
  {
   "cell_type": "code",
   "execution_count": 2,
   "metadata": {},
   "outputs": [],
   "source": [
    "LD = pd.read_csv('LaoDong.csv')\n"
   ]
  },
  {
   "cell_type": "code",
   "execution_count": 3,
   "metadata": {},
   "outputs": [
    {
     "data": {
      "text/plain": [
       "[]                                                                                                                                                 16\n",
       "Tags                                                                                                                                               13\n",
       "['bệnh nhân COVID-19', 'COVID-19', 'tin COVID', 'Dịch COVID-19', 'tin mới nhất COVID-19']                                                           4\n",
       "['barcelona', 'Bayern Munich', 'Champions League']                                                                                                  3\n",
       "['VN-INDEX', 'Chứng khoán', 'Tin chứng khoán mới nhất', 'Thị trường chứng khoán', 'Dòng tiền']                                                      2\n",
       "                                                                                                                                                   ..\n",
       "['bluezone', 'COVID-19', 'Bộ thông tin và truyền thông']                                                                                            1\n",
       "['Joe Biden', 'Ứng viên phó tổng thống đảng Dân chủ', 'bầu cử Mỹ 2020', 'Kamala Harris']                                                            1\n",
       "['Ca mắc COVID-19 ở Thanh Xuân', 'Ca mắc COVID-19 ở Hà Nội', 'Thêm một ca mắc COVID mới', 'Số ca mắc COVID-19 ở Hà Nội', 'phòng dịch COVID-19']     1\n",
       "['barcelona', 'Barcelona thanh lọc lực lượng', 'Thực trạng của Barcelona', 'Champions League 2019-20']                                              1\n",
       "['Thủ tướng chính phủ', 'Thi THPT', 'kỳ thi tốt nghiệp THPT', 'dịch bệnh COVID-19']                                                                 1\n",
       "Name: Tags, Length: 181, dtype: int64"
      ]
     },
     "execution_count": 3,
     "metadata": {},
     "output_type": "execute_result"
    }
   ],
   "source": [
    "LD['Tags'].value_counts()"
   ]
  },
  {
   "cell_type": "code",
   "execution_count": 4,
   "metadata": {},
   "outputs": [
    {
     "data": {
      "text/plain": [
       "Keywords                                                                                                                                                                                                                                                                                                                                                                                                                                                                                                                                                                                                                                                                                                                                                                                  13\n",
       "['Lễ truy điệu Nguyên Tổng Bí thư Lê Khả Phiêu', 'Lễ An táng Nguyên Tổng Bí thư Lê Khả Phiêu', 'Nguyên Tổng Bí thư Lê Khả Phiêu', 'Quốc tang Nguyên Tổng Bí thư Lê Khả Phiêu']                                                                                                                                                                                                                                                                                                                                                                                                                                                                                                                                                                                                             4\n",
       "['bệnh nhân COVID-19', 'COVID-19', 'tin COVID', 'dịch COVID-19', 'tin mới nhất COVID-19', 'ca mắc COVID-19', 'Dịch bệnh COVID-19', 'tử vong bệnh nền', 'SARS-CoV-2']                                                                                                                                                                                                                                                                                                                                                                                                                                                                                                                                                                                                                       3\n",
       "['COVID-19', 'COVID-19 ĐÀ NẴNG', 'BỘ Y TẾ COVID-19', 'đường dây buôn người COVID-19', 'đường dây COVID-19', 'ca nhiễm COVID-19 đà nẵng', 'Đà Nẵng', 'COVID-19', 'đà nẵng COVID-19', 'đà nẵng nhiễm COVID-19', 'ca nhiễm COVID-19 mới', 'đà nẵng phát hiện COVID-19', 'trốn cách ly', 'truy tìm người cách ly', 'cách ly đà nẵng', 'khu cách ly đà nẵng', 'bệnh viện trung ương huế', 'bệnh viện đà nẵng', 'hoãn đám cưới', 'hoãn đám cưới vì covid-19', 'covid hoãn đám cưới', 'covid-19 hoãn đám cưới', 'xét nghiệm covid-19', 'xét nghiệm diện rộng', 'truy tìm F0 covid', 'F0 Đà Nẵng', 'Bệnh viện dã chiến', 'tránh thai', 'tảo hôn mùa covid', 'tử vong', 'đám tang mùa COVID-19', 'phong tỏa chung cư đà nẵng', 'thi tốt nghiệp THPT', 'Đà Nẵng', 'thi tốt nghiệp THPT đà nẵng']     2\n",
       "['Thủ tướng Nguyễn Xuân Phúc', 'chống COVID-19', 'Đề xuất thi tốt nghiệp THPT', 'Thi Tốt nghiệp', 'Thường trực Chính phủ họp trực tuyến', 'Chống dịch ở Đà Nẵng', 'Dịch COVID-19 ở Đà Nẵng', 'Quảng Nam']                                                                                                                                                                                                                                                                                                                                                                                                                                                                                                                                                                                  2\n",
       "                                                                                                                                                                                                                                                                                                                                                                                                                                                                                                                                                                                                                                                                                                                                                                                          ..\n",
       "['Lê Khả Phiêu', 'cố Tổng Bí thư', 'Lễ viếng', 'lễ truy điệu']                                                                                                                                                                                                                                                                                                                                                                                                                                                                                                                                                                                                                                                                                                                             1\n",
       "['Champions League', 'tứ kết Champions League 2019-2020', 'Man City', 'Atletico', 'PSG', 'Leipzig', 'Lyon', 'bán kết Champions League', 'Bayern Munich', 'Barcelona', '']                                                                                                                                                                                                                                                                                                                                                                                                                                                                                                                                                                                                                  1\n",
       "['Joe Biden', 'Đảng Dân chủ Mỹ', 'Ứng viên phó tổng thống đảng Dân chủ', 'Joe Biden chọn ứng viên phó tổng thống', 'Người Mỹ gốc Á', 'ứng viên phó tổng thống đảng Dân chủ', 'Kamala harris là ai', 'Người làm phó cho ứng viên Joe Biden', 'Nữ nghị sĩ Kamala Harris', 'Liên minh phó tổng thống', 'Át chủ bài đấu với Tổng thống Trump', 'Bầu cử Mỹ 2020', 'Bầu cử 2020', 'Liên danh tranh cử', 'Đảng Dân chủ', 'Tin quốc tế 24h', 'Tin bầu cử Mỹ mới nhất', '']                                                                                                                                                                                                                                                                                                                         1\n",
       "['Thủ tướng', 'Thủ tướng Chính phủ', 'Thi THPT Quốc gia', 'Thi THPT', 'Kỳ thi tốt nghiệp THPT', 'Dịch COVID-19', 'Diễn biến dịch bệnh COVID-19', 'Dịch bệnh', 'Bộ Giáo dục và Đào tạo', 'Phương án tổ chức thi tốt nghiệp THPT', 'thi cử', 'Họp Chính phủ', 'Chính phủ thường kỳ']                                                                                                                                                                                                                                                                                                                                                                                                                                                                                                         1\n",
       "['COVID-19', 'SARS-CoV-2', 'Ấn Độ', 'cháy bệnh viện ở Ấn Độ', 'bệnh nhân COVID-19 Ấn Độ tử vong trong hỏa hoạn', 'cháy bệnh viện khiến 8 bệnh nhân COVID-19 Ấn Độ thiệt mạng', 'Tin quốc tế', 'Tin tức 24h', 'Nóng trong ngày', 'Nóng nhất hôm nay', 'Nóng nhất ngày 6/8', 'Tin nóng ngày 6/8', 'tin tức 6/8', '']                                                                                                                                                                                                                                                                                                                                                                                                                                                                         1\n",
       "Name: Keywords, Length: 193, dtype: int64"
      ]
     },
     "execution_count": 4,
     "metadata": {},
     "output_type": "execute_result"
    }
   ],
   "source": [
    "LD['Keywords'].value_counts()"
   ]
  }
 ],
 "metadata": {
  "kernelspec": {
   "display_name": "Python 3",
   "language": "python",
   "name": "python3"
  },
  "language_info": {
   "codemirror_mode": {
    "name": "ipython",
    "version": 3
   },
   "file_extension": ".py",
   "mimetype": "text/x-python",
   "name": "python",
   "nbconvert_exporter": "python",
   "pygments_lexer": "ipython3",
   "version": "3.7.6"
  }
 },
 "nbformat": 4,
 "nbformat_minor": 4
}
